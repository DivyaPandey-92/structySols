{
 "cells": [
  {
   "cell_type": "code",
   "execution_count": null,
   "metadata": {},
   "outputs": [],
   "source": [
    "def quickest_concat(s, words):\n",
    "  pass # todo\n",
    "  return _quickest_concat(s, words)\n",
    "\n",
    "def _quickest_concat(s, words):\n",
    "  \n",
    "  if s is None:\n",
    "    return True\n",
    "  \n",
    "  minimum=float('inf')\n",
    "  \n",
    "  for word in words:\n",
    "    if s.startswith(word):\n",
    "      suffix=s[len(words):]\n",
    "      out=1+quickest_concat(suffix, words)\n",
    "      \n",
    "    if out<minimum:\n",
    "      minimum=out\n",
    "        \n",
    "  return minimum"
   ]
  }
 ],
 "metadata": {
  "kernelspec": {
   "display_name": "Python 3.9.1 64-bit",
   "language": "python",
   "name": "python3"
  },
  "language_info": {
   "name": "python",
   "version": "3.9.1"
  },
  "orig_nbformat": 4,
  "vscode": {
   "interpreter": {
    "hash": "c015e0e6a20a70f8474d412d1f340c97be77a0c89b4775d2404595dcfa6c2141"
   }
  }
 },
 "nbformat": 4,
 "nbformat_minor": 2
}
