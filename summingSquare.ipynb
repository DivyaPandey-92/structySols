{
 "cells": [
  {
   "cell_type": "code",
   "execution_count": null,
   "metadata": {},
   "outputs": [],
   "source": [
    "import math\n",
    "def summing_squares(n):\n",
    "  return _summing_squares(n,{})\n",
    "\n",
    "def _summing_squares(n, memo):\n",
    "  pass # todo\n",
    "  if n==0:\n",
    "    return 0\n",
    "  \n",
    "  if n in memo:\n",
    "    return memo[n]\n",
    "  \n",
    "  minimum=float(\"inf\")\n",
    "  for i in range(1,int(math.sqrt(n)) +1):\n",
    "    square=i*i\n",
    "    memo[n]=1+_summing_squares(n-square, memo)\n",
    "    minimum=min(memo[n], minimum)\n",
    "  \n",
    "  return minimum"
   ]
  }
 ],
 "metadata": {
  "language_info": {
   "name": "python"
  },
  "orig_nbformat": 4
 },
 "nbformat": 4,
 "nbformat_minor": 2
}
