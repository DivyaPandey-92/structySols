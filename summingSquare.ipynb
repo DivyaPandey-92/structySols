{
 "cells": [
  {
   "cell_type": "code",
   "execution_count": null,
   "metadata": {},
   "outputs": [],
   "source": [
    "import math\n",
    "def summing_squares(n):\n",
    "  return _summing_squares(n,{})\n",
    "\n",
    "def _summing_squares(n, memo):\n",
    "  pass # todo\n",
    "  if n==0:\n",
    "    return 0\n",
    "  \n",
    "  if n in memo:\n",
    "    return memo[n]\n",
    "  \n",
    "  minimum=float(\"inf\")\n",
    "  for i in range(1,int(math.sqrt(n)) +1):\n",
    "    square=i*i\n",
    "    memo[n]=1+_summing_squares(n-square, memo)\n",
    "    minimum=min(memo[n], minimum)\n",
    "  \n",
    "  return minimum"
   ]
  }
 ],
 "metadata": {
  "kernelspec": {
   "display_name": "Python 3.9.1 64-bit",
   "language": "python",
   "name": "python3"
  },
  "language_info": {
   "name": "python",
   "version": "3.9.1"
  },
  "orig_nbformat": 4,
  "vscode": {
   "interpreter": {
    "hash": "c015e0e6a20a70f8474d412d1f340c97be77a0c89b4775d2404595dcfa6c2141"
   }
  }
 },
 "nbformat": 4,
 "nbformat_minor": 2
}
