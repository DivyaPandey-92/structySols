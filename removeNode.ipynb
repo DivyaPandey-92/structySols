{
 "cells": [
  {
   "cell_type": "code",
   "execution_count": null,
   "metadata": {},
   "outputs": [],
   "source": [
    "def remove_node(head, target_val):\n",
    "  pass # todo\n",
    "  \n",
    "  cur=head\n",
    "  \n",
    "#   if head.next is None  or head is None:\n",
    "#     return None\n",
    "  \n",
    "  if head.val==target_val:\n",
    "    head=head.next\n",
    "  else:\n",
    "    \n",
    "    while cur.next.val!=target_val:\n",
    "      cur=cur.next\n",
    "\n",
    "    cur.next=cur.next.next\n",
    "    \n",
    "  return head"
   ]
  }
 ],
 "metadata": {
  "kernelspec": {
   "display_name": "Python 3.9.1 64-bit",
   "language": "python",
   "name": "python3"
  },
  "language_info": {
   "name": "python",
   "version": "3.9.1"
  },
  "orig_nbformat": 4,
  "vscode": {
   "interpreter": {
    "hash": "c015e0e6a20a70f8474d412d1f340c97be77a0c89b4775d2404595dcfa6c2141"
   }
  }
 },
 "nbformat": 4,
 "nbformat_minor": 2
}
