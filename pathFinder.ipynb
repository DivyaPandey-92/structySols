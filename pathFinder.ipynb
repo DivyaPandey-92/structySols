{
 "cells": [
  {
   "cell_type": "code",
   "execution_count": null,
   "metadata": {},
   "outputs": [],
   "source": [
    "# class Node:\n",
    "#   def __init__(self, val):\n",
    "#     self.val = val\n",
    "#     self.left = None\n",
    "#     self.right = None\n",
    "\n",
    "def path_finder(root, target):\n",
    "  pass # todo\n",
    "  if root is None:\n",
    "    return None\n",
    "  \n",
    "  if root.val==target:\n",
    "    return [ root.val ]\n",
    "  \n",
    "  left_path=path_finder(root.left, target)\n",
    "  if left_path is not None:\n",
    "    # return [root.val, *left_path]\n",
    "    left_path.append(root.val)\n",
    "    return left_path\n",
    "  \n",
    "  \n",
    "  right_path=path_finder(root.right, target)\n",
    "  if right_path is not None:\n",
    "    # return [root.val, *right_path]\n",
    "    #why the beow code dinot work\n",
    "    # return right_path.append(root.val)\n",
    "    right_path.append(root.val)\n",
    "    return right_path\n",
    "    \n",
    "  # return None\n",
    "  \n",
    "  \n",
    "  \n"
   ]
  },
  {
   "cell_type": "code",
   "execution_count": 3,
   "metadata": {},
   "outputs": [
    {
     "data": {
      "text/plain": [
       "'100'"
      ]
     },
     "execution_count": 3,
     "metadata": {},
     "output_type": "execute_result"
    }
   ],
   "source": [
    "bin(4)[2:]"
   ]
  },
  {
   "cell_type": "code",
   "execution_count": null,
   "metadata": {},
   "outputs": [],
   "source": []
  }
 ],
 "metadata": {
  "kernelspec": {
   "display_name": "Python 3.9.1 64-bit",
   "language": "python",
   "name": "python3"
  },
  "language_info": {
   "codemirror_mode": {
    "name": "ipython",
    "version": 3
   },
   "file_extension": ".py",
   "mimetype": "text/x-python",
   "name": "python",
   "nbconvert_exporter": "python",
   "pygments_lexer": "ipython3",
   "version": "3.9.1"
  },
  "orig_nbformat": 4,
  "vscode": {
   "interpreter": {
    "hash": "c015e0e6a20a70f8474d412d1f340c97be77a0c89b4775d2404595dcfa6c2141"
   }
  }
 },
 "nbformat": 4,
 "nbformat_minor": 2
}
