{
 "cells": [
  {
   "cell_type": "code",
   "execution_count": null,
   "metadata": {},
   "outputs": [],
   "source": [
    "# class Node:\n",
    "#   def __init__(self, val):\n",
    "#     self.val = val\n",
    "#     self.left = None\n",
    "#     self.right = None\n",
    "\n",
    "def path_finder(root, target):\n",
    "  pass # todo\n",
    "  if root is None:\n",
    "    return None\n",
    "  \n",
    "  if root.val==target:\n",
    "    return [ root.val ]\n",
    "  \n",
    "  left_path=path_finder(root.left, target)\n",
    "  if left_path is not None:\n",
    "    # return [root.val, *left_path]\n",
    "    left_path.append(root.val)\n",
    "    return left_path\n",
    "  \n",
    "  \n",
    "  right_path=path_finder(root.right, target)\n",
    "  if right_path is not None:\n",
    "    # return [root.val, *right_path]\n",
    "    #why the beow code dinot work\n",
    "    # return right_path.append(root.val)\n",
    "    right_path.append(root.val)\n",
    "    return right_path\n",
    "    \n",
    "  # return None\n",
    "  \n",
    "  \n",
    "  \n"
   ]
  }
 ],
 "metadata": {
  "language_info": {
   "name": "python"
  },
  "orig_nbformat": 4
 },
 "nbformat": 4,
 "nbformat_minor": 2
}
