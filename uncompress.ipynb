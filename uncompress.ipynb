{
 "cells": [
  {
   "cell_type": "code",
   "execution_count": null,
   "metadata": {},
   "outputs": [],
   "source": [
    "def uncompress(s):\n",
    "  pass # todo\n",
    "  new_s=''\n",
    "  i=0\n",
    "  j=0\n",
    "  numbers='0123456789'\n",
    "  \n",
    "  while j < len(s):\n",
    "    if s[j] in numbers:\n",
    "      j+=1\n",
    "    else:\n",
    "      num=int(s[i:j])\n",
    "      # i=i+num-1\n",
    "      new_s=new_s+s[j]*num\n",
    "      # i=j\n",
    "      j+=1\n",
    "      i=j\n",
    "  return new_s"
   ]
  }
 ],
 "metadata": {
  "language_info": {
   "name": "python"
  },
  "orig_nbformat": 4
 },
 "nbformat": 4,
 "nbformat_minor": 2
}
