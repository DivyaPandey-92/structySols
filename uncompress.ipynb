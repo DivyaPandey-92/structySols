{
 "cells": [
  {
   "cell_type": "code",
   "execution_count": null,
   "metadata": {},
   "outputs": [],
   "source": [
    "def compress(s):\n",
    "  pass # todo\n",
    "  \n",
    "  i=0\n",
    "  j=0\n",
    "  new_s=''\n",
    "  # while j<len(s):\n",
    "  # while s[j] is not None:\n",
    "  while j<len(s):\n",
    "    if s[i]==s[j]:\n",
    "      j+=1\n",
    "    else:\n",
    "      num=len(s[:j])-len(s[:i])\n",
    "      if num==1:\n",
    "        new_ch=s[i]\n",
    "        new_s+=new_ch\n",
    "      # j+=1\n",
    "      else:\n",
    "        new_ch=str(num)+s[i]\n",
    "        new_s+=new_ch\n",
    "      i=j\n",
    "      \n",
    "  last_num=j-i\n",
    "  if last_num==1:\n",
    "    return new_s+s[i]\n",
    "  else:\n",
    "    return new_s+str(last_num)+s[i]\n",
    "  # return new_s.replace('1', '')\n",
    "      \n",
    "      "
   ]
  }
 ],
 "metadata": {
  "kernelspec": {
   "display_name": "Python 3.9.1 64-bit",
   "language": "python",
   "name": "python3"
  },
  "language_info": {
   "name": "python",
   "version": "3.9.1"
  },
  "orig_nbformat": 4,
  "vscode": {
   "interpreter": {
    "hash": "c015e0e6a20a70f8474d412d1f340c97be77a0c89b4775d2404595dcfa6c2141"
   }
  }
 },
 "nbformat": 4,
 "nbformat_minor": 2
}
