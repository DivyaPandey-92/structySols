{
 "cells": [
  {
   "cell_type": "code",
   "execution_count": null,
   "metadata": {},
   "outputs": [],
   "source": [
    "def linked_list_cycle(head):\n",
    "  \n",
    "  if head is None or head.next is None:\n",
    "    return False\n",
    "  \n",
    "  slow=head\n",
    "  fast=head\n",
    "  \n",
    "  while fast is not None:\n",
    "    slow=slow.next\n",
    "    if fast .next is not None:\n",
    "      fast=fast.next.next\n",
    "    if slow==fast:\n",
    "      return True\n",
    "    \n",
    "  return False\n",
    "    "
   ]
  }
 ],
 "metadata": {
  "kernelspec": {
   "display_name": "Python 3.9.1 64-bit",
   "language": "python",
   "name": "python3"
  },
  "language_info": {
   "name": "python",
   "version": "3.9.1"
  },
  "orig_nbformat": 4,
  "vscode": {
   "interpreter": {
    "hash": "c015e0e6a20a70f8474d412d1f340c97be77a0c89b4775d2404595dcfa6c2141"
   }
  }
 },
 "nbformat": 4,
 "nbformat_minor": 2
}
