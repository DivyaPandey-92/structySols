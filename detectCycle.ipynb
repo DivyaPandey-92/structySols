{
 "cells": [
  {
   "cell_type": "code",
   "execution_count": null,
   "metadata": {},
   "outputs": [],
   "source": [
    "def linked_list_cycle(head):\n",
    "  \n",
    "  if head is None or head.next is None:\n",
    "    return False\n",
    "  \n",
    "  slow=head\n",
    "  fast=head\n",
    "  \n",
    "  while fast is not None:\n",
    "    slow=slow.next\n",
    "    if fast .next is not None:\n",
    "      fast=fast.next.next\n",
    "    if slow==fast:\n",
    "      return True\n",
    "    \n",
    "  return False\n",
    "    "
   ]
  }
 ],
 "metadata": {
  "language_info": {
   "name": "python"
  },
  "orig_nbformat": 4
 },
 "nbformat": 4,
 "nbformat_minor": 2
}
