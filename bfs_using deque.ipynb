{
 "cells": [
  {
   "cell_type": "code",
   "execution_count": null,
   "metadata": {},
   "outputs": [],
   "source": [
    "from collections import deque\n",
    "\n",
    "def breadth_first_values(root):\n",
    "  pass # todo\n",
    "  queue=deque([ root ])\n",
    "  llist=[]\n",
    "  \n",
    "  if root is None:\n",
    "    return []\n",
    "  \n",
    "  while queue:\n",
    "    current=queue.popleft()\n",
    "    llist.append(current.val)\n",
    "    \n",
    "    if current.left:\n",
    "      queue.append(current.left)\n",
    "      \n",
    "    if current.right:\n",
    "      queue.append(current.right)\n",
    "      \n",
    "  return llist"
   ]
  }
 ],
 "metadata": {
  "language_info": {
   "name": "python"
  },
  "orig_nbformat": 4
 },
 "nbformat": 4,
 "nbformat_minor": 2
}
