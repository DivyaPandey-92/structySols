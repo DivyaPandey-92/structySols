{
 "cells": [
  {
   "cell_type": "code",
   "execution_count": 2,
   "metadata": {},
   "outputs": [],
   "source": [
    "def string_search(grid, s):\n",
    "  pass # todo\n",
    "  return  _string_search(grid, s, 0, 0, (0,0))\n",
    "\n",
    "\n",
    "\n",
    "\n",
    "\n",
    "#my way\n",
    "def _string_search(grid, s, row, col, visited):\n",
    "  \n",
    "  if row==len(grid)-1 or col==len(grid[0])-1:\n",
    "    return False\n",
    "  \n",
    "  if grid[row][col]!=s[0]:\n",
    "    return False\n",
    "  \n",
    "  if grid[col][row]==s[0]:\n",
    "    \n",
    "    \n",
    " \n",
    "  \n",
    "  else:\n",
    "    _string_search(grid, s, row+1, col, visited) if (row, col) not in visited else False\n",
    "    _string_search(grid, s, row-1, col, visited) if (row, col) not in visited else False\n",
    "    _string_search(grid, s, row, col+1, visited) if (row, col) not in visited else False\n",
    "#     _string_search(grid, s, row, col-1, visited) if (row, col) not in visited else False\n",
    "    \n",
    "    \n",
    "  \n",
    "  \n",
    "  \n",
    "  \n",
    "# def _string_search(grid, s, row, col):\n",
    "  \n",
    "# #   if row ==len(grid) or col==len(grid[0]):\n",
    "# #     return False\n",
    "#   if row >=len(grid) or col>=len(grid[0]):\n",
    "#     return False\n",
    "  \n",
    "#   if len(s)==0:\n",
    "#     return True\n",
    "  \n",
    "#   if s[0]==grid[row][col]:\n",
    "#     right=_string_search(grid, s[1:], row+1, col)\n",
    "#     down= _string_search(grid, s[1:], row, col+1)\n",
    "#     if right or down:\n",
    "#       return True\n",
    "#   else:\n",
    "#     right=_string_search(grid, s, row+1, col)\n",
    "#     down=_string_search(grid, s, row, col+1)\n",
    "#     if right or down:\n",
    "#       return True\n",
    "  # return True\n",
    "  \n",
    "    \n",
    "  \n",
    "  "
   ]
  },
  {
   "cell_type": "code",
   "execution_count": 4,
   "metadata": {},
   "outputs": [
    {
     "data": {
      "text/plain": [
       "'zooticktackdoor'"
      ]
     },
     "execution_count": 4,
     "metadata": {},
     "output_type": "execute_result"
    }
   ],
   "source": []
  }
 ],
 "metadata": {
  "kernelspec": {
   "display_name": "Python 3.9.1 64-bit",
   "language": "python",
   "name": "python3"
  },
  "language_info": {
   "codemirror_mode": {
    "name": "ipython",
    "version": 3
   },
   "file_extension": ".py",
   "mimetype": "text/x-python",
   "name": "python",
   "nbconvert_exporter": "python",
   "pygments_lexer": "ipython3",
   "version": "3.9.1"
  },
  "orig_nbformat": 4,
  "vscode": {
   "interpreter": {
    "hash": "c015e0e6a20a70f8474d412d1f340c97be77a0c89b4775d2404595dcfa6c2141"
   }
  }
 },
 "nbformat": 4,
 "nbformat_minor": 2
}
