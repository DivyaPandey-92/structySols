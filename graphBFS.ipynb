{
 "cells": [
  {
   "cell_type": "code",
   "execution_count": null,
   "metadata": {},
   "outputs": [],
   "source": [
    "from pythonds.graphs import Graph, Vertex\n",
    "from pythonds.basic import Queue\n",
    "\n",
    "def bfs(g, start):\n",
    "    start.setDistance(0)\n",
    "    start.setPred(None)\n",
    "    vertQueue = Queue()\n",
    "    vertQueue.enqueue(start)\n",
    "while vertQueue.size>0:\n",
    "    currentVert=vertQueue.dequeue()\n",
    "    for nbr in currentVert.getConnections():\n",
    "        if nbr.getcolor()=='white':\n",
    "            nbr.setColor('grey')\n",
    "            nbr.setDistance(currentVert.getDistance() + 1)\n",
    "            nbr.setPred(currentVert)\n",
    "            vertQueue.enqueue()\n",
    "    currentVert.setColor('black')\n"
   ]
  }
 ],
 "metadata": {
  "language_info": {
   "name": "python"
  },
  "orig_nbformat": 4
 },
 "nbformat": 4,
 "nbformat_minor": 2
}
