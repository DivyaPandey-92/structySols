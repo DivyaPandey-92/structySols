{
 "cells": [
  {
   "cell_type": "code",
   "execution_count": null,
   "metadata": {},
   "outputs": [],
   "source": [
    "def parenthetical_possibilities(s):\n",
    "  pass # todo\n",
    "  if s=='':\n",
    "    return ['']\n",
    "  \n",
    "  # first=s[0]\n",
    "  # remaining=s[1:]\n",
    "  # if first=='(':\n",
    "  all_possibilities=[]\n",
    "  first, remaining=get_choices(s)\n",
    "  remainder_possibilities=parenthetical_possibilities(remaining)\n",
    "  # result=[]\n",
    "  \n",
    "  for char in first:\n",
    "    # for remainder_possibility in remainder_possibilities:\n",
    "      # # char+=remainder_possibility\n",
    "      # all_possibilities.append(char+remainder_possibility)\n",
    "      all_possibilities+=[char+remainder_possibility for remainder_possibility in remainder_possibilities]\n",
    "      \n",
    "      \n",
    "     # [char, *subarray] \n",
    "      # result+=[char, *subarray]\n",
    "   \n",
    "  return all_possibilities \n",
    "      \n",
    "def get_choices(s):\n",
    "  if s[0]=='(':\n",
    "    end=s.index(')')\n",
    "    return s[1:end], s[end+1:]\n",
    "  else:\n",
    "    return s[0], s[1:]\n",
    "    \n",
    "print(get_choices('(abc)de'))\n",
    "print(get_choices('pqr(mn)'))"
   ]
  }
 ],
 "metadata": {
  "kernelspec": {
   "display_name": "Python 3.9.1 64-bit",
   "language": "python",
   "name": "python3"
  },
  "language_info": {
   "name": "python",
   "version": "3.9.1"
  },
  "orig_nbformat": 4,
  "vscode": {
   "interpreter": {
    "hash": "c015e0e6a20a70f8474d412d1f340c97be77a0c89b4775d2404595dcfa6c2141"
   }
  }
 },
 "nbformat": 4,
 "nbformat_minor": 2
}
