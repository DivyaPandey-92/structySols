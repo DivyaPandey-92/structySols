{
 "cells": [
  {
   "cell_type": "code",
   "execution_count": null,
   "metadata": {},
   "outputs": [],
   "source": [
    "def min_change(amount, coins):\n",
    "  ways=_min_change(amount, coins, {})\n",
    "  if ways==float(\"inf\"):\n",
    "    return -1\n",
    "  else:\n",
    "    return ways\n",
    "def _min_change(amount, coins, memo):\n",
    "  # pass # todo\n",
    "  if amount in memo:\n",
    "    return memo[amount]\n",
    "  \n",
    "  if amount==0:\n",
    "    return 0\n",
    "  \n",
    "  if amount<0:\n",
    "    return float(\"inf\")\n",
    "  # min=0\n",
    "  # for coin in coins:\n",
    "  minimum_Ways=float(\"inf\")\n",
    "  \n",
    "\n",
    "  for coin in coins:\n",
    "    num=1+_min_change(amount-coin, coins, memo)\n",
    "    if num<minimum_Ways:\n",
    "      minimum_Ways=num\n",
    "  \n",
    "\n",
    "  memo[amount]=minimum_Ways    \n",
    "  return minimum_Ways"
   ]
  }
 ],
 "metadata": {
  "language_info": {
   "name": "python"
  },
  "orig_nbformat": 4
 },
 "nbformat": 4,
 "nbformat_minor": 2
}
