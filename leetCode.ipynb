{
 "cells": [
  {
   "cell_type": "code",
   "execution_count": null,
   "metadata": {},
   "outputs": [],
   "source": [
    "class Solution(object):\n",
    "    def pivotIndex(self, nums):\n",
    "\n",
    "        \"\"\"\n",
    "        :type nums: List[int]\n",
    "        :rtype: int\n",
    "        \"\"\"\n",
    "        right=sum(nums)-nums[0]\n",
    "        left=0\n",
    "\n",
    "        # if ((i==0 and right==0)  or (i==len(nums)-1 and sum(nums[:-1])==0)):\n",
    "        #     return i\n",
    "\n",
    "\n",
    "        for i in range(0, len(nums)):\n",
    "            if ((i==0 and right==0)  or (i==len(nums)-1 and sum(nums[:-1])==0)):\n",
    "                return i\n",
    "            else:\n",
    "                left=left+nums[i-1]\n",
    "                right=right-nums[i]\n",
    "                if left==right:\n",
    "                    return i\n",
    "\n",
    "        return -1"
   ]
  }
 ],
 "metadata": {
  "kernelspec": {
   "display_name": "Python 3.9.1 64-bit",
   "language": "python",
   "name": "python3"
  },
  "language_info": {
   "name": "python",
   "version": "3.9.1"
  },
  "orig_nbformat": 4,
  "vscode": {
   "interpreter": {
    "hash": "c015e0e6a20a70f8474d412d1f340c97be77a0c89b4775d2404595dcfa6c2141"
   }
  }
 },
 "nbformat": 4,
 "nbformat_minor": 2
}
