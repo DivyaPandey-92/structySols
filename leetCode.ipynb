{
 "cells": [
  {
   "cell_type": "code",
   "execution_count": null,
   "metadata": {},
   "outputs": [],
   "source": [
    "class Solution(object):\n",
    "    def pivotIndex(self, nums):\n",
    "\n",
    "        \"\"\"\n",
    "        :type nums: List[int]\n",
    "        :rtype: int\n",
    "        \"\"\"\n",
    "        right=sum(nums)-nums[0]\n",
    "        left=0\n",
    "\n",
    "        # if ((i==0 and right==0)  or (i==len(nums)-1 and sum(nums[:-1])==0)):\n",
    "        #     return i\n",
    "\n",
    "\n",
    "        for i in range(0, len(nums)):\n",
    "            if ((i==0 and right==0)  or (i==len(nums)-1 and sum(nums[:-1])==0)):\n",
    "                return i\n",
    "            else:\n",
    "                left=left+nums[i-1]\n",
    "                right=right-nums[i]\n",
    "                if left==right:\n",
    "                    return i\n",
    "\n",
    "        return -1"
   ]
  }
 ],
 "metadata": {
  "language_info": {
   "name": "python"
  },
  "orig_nbformat": 4
 },
 "nbformat": 4,
 "nbformat_minor": 2
}
