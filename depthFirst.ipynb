{
 "cells": [
  {
   "cell_type": "code",
   "execution_count": null,
   "metadata": {},
   "outputs": [],
   "source": [
    "def depth_first_values(root, list1=[]):\n",
    "  pass # todo\n",
    "  # list1=[]\n",
    "  \n",
    "  if root is None:\n",
    "    return []\n",
    "  \n",
    "  \n",
    "  # root\n",
    "  list1.append(root.val)\n",
    "  left=depth_first_values(root.left, list1)\n",
    "  right=depth_first_values(root.right, list1)\n",
    "  \n",
    "  return list1"
   ]
  },
  {
   "cell_type": "code",
   "execution_count": null,
   "metadata": {},
   "outputs": [],
   "source": [
    "\n",
    "stack=[ root ]\n",
    "llist=[]\n",
    "  if root is None:\n",
    "    return []\n",
    "  while stack:\n",
    "    current=stack.pop()\n",
    "    # print(current.val)\n",
    "    llist.append(current.val)\n",
    "    if current.right:\n",
    "      stack.append(current.right)\n",
    "    if current.left:\n",
    "      stack.append(current.left)\n",
    "      \n",
    "  return llist"
   ]
  }
 ],
 "metadata": {
  "kernelspec": {
   "display_name": "Python 3.9.1 64-bit",
   "language": "python",
   "name": "python3"
  },
  "language_info": {
   "name": "python",
   "version": "3.9.1"
  },
  "orig_nbformat": 4,
  "vscode": {
   "interpreter": {
    "hash": "c015e0e6a20a70f8474d412d1f340c97be77a0c89b4775d2404595dcfa6c2141"
   }
  }
 },
 "nbformat": 4,
 "nbformat_minor": 2
}
