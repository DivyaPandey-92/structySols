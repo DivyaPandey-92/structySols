{
 "cells": [
  {
   "cell_type": "code",
   "execution_count": null,
   "metadata": {},
   "outputs": [],
   "source": [
    "def combine_intervals(intervals):\n",
    "  pass # todo\n",
    "  \n",
    "\n",
    "\n",
    "\n",
    "#My logic\n",
    "  sorted_intervals=sorted(intervals, key=lambda x:x[0])\n",
    "  combined_intervals=[]\n",
    "  i=0\n",
    "  j=1\n",
    "  # for i in range(len(sorted_intervals)):\n",
    "  while j< len(sorted_intervals)-1:\n",
    "    current_start, current_end =sorted_intervals[i]\n",
    "    next_start, next_end=sorted_intervals[j]\n",
    "    if current_end>next_start and current_end<next_end:\n",
    "      combined_intervals.append((current_start, next_end))\n",
    "      # i+=2\n",
    "      j+=1\n",
    "    elif current_end>next_start and current_end>next_end:\n",
    "      combined_intervals.append(( current_start,current_end))\n",
    "      j+=1\n",
    "      \n",
    "    else:\n",
    "      combined_intervals.append((current_start, current_end))\n",
    "      combined_intervals.append((next_start, next_end))\n",
    "      i+=2\n",
    "  return combined_intervals\n",
    "      \n",
    "      \n",
    "      \n",
    "    \n",
    "  \n",
    "  "
   ]
  }
 ],
 "metadata": {
  "kernelspec": {
   "display_name": "Python 3.9.1 64-bit",
   "language": "python",
   "name": "python3"
  },
  "language_info": {
   "name": "python",
   "version": "3.9.1"
  },
  "orig_nbformat": 4,
  "vscode": {
   "interpreter": {
    "hash": "c015e0e6a20a70f8474d412d1f340c97be77a0c89b4775d2404595dcfa6c2141"
   }
  }
 },
 "nbformat": 4,
 "nbformat_minor": 2
}
