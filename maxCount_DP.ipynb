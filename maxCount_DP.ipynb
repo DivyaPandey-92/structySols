{
 "cells": [
  {
   "cell_type": "code",
   "execution_count": null,
   "metadata": {},
   "outputs": [],
   "source": [
    "def max_path_sum(grid):\n",
    "  pass # todo\n",
    "  # row=0\n",
    "  # col=0\n",
    "  return _max_path_sum(grid, 0, 0, {})\n",
    "\n",
    "def _max_path_sum(grid, row, col, memo):\n",
    "  \n",
    "  if row==len(grid) or col==len(grid[0]) :\n",
    "    return float(\"-inf\")\n",
    "  \n",
    "  if row==len(grid)-1 and col==len(grid[0])-1:\n",
    "    return grid[row][col]\n",
    "  # if row <len(grid)\n",
    "  key=str(row)+ \",\" + str(col)\n",
    "  \n",
    "  if key in memo:\n",
    "    return memo[key]\n",
    "  \n",
    "  memo[key]= grid[row][col]+max(_max_path_sum(grid, row+1, col, memo),\n",
    "              _max_path_sum(grid, row, col+1, memo))\n",
    "  \n",
    "  \n",
    "  return memo[key]"
   ]
  }
 ],
 "metadata": {
  "kernelspec": {
   "display_name": "Python 3.9.1 64-bit",
   "language": "python",
   "name": "python3"
  },
  "language_info": {
   "name": "python",
   "version": "3.9.1"
  },
  "orig_nbformat": 4,
  "vscode": {
   "interpreter": {
    "hash": "c015e0e6a20a70f8474d412d1f340c97be77a0c89b4775d2404595dcfa6c2141"
   }
  }
 },
 "nbformat": 4,
 "nbformat_minor": 2
}
