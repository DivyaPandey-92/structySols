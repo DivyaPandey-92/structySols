{
 "cells": [
  {
   "cell_type": "code",
   "execution_count": 2,
   "metadata": {},
   "outputs": [
    {
     "data": {
      "text/plain": [
       "[1]"
      ]
     },
     "execution_count": 2,
     "metadata": {},
     "output_type": "execute_result"
    }
   ],
   "source": [
    "class Node:\n",
    "  def __init__(self, val):\n",
    "    self.val = val\n",
    "    self.left = None\n",
    "    self.right = None\n",
    "\n",
    "def build_tree_in_pre(in_order, pre_order):\n",
    "  pass # todo\n",
    "  \n",
    "  if len(pre_order)==1:\n",
    "    return Node(pre_order[0])\n",
    "  \n",
    "  \n",
    "  value=pre_order[0]\n",
    "  root=Node(value)\n",
    "  ind=in_order.index(value)\n",
    "  left_inorder=in_order[:ind]\n",
    "  right_inorder=in_order[ind+1:]\n",
    "  left_pre_order=pre_order[1:2+len(left_inorder)]\n",
    "  right_pre_order=pre_order[2+len(left_inorder):]\n",
    "  root.left=build_tree_in_pre(left_inorder, left_pre_order)\n",
    "  root.right=build_tree_in_pre(right_inorder, right_pre_order)\n",
    "  return root"
   ]
  }
 ],
 "metadata": {
  "kernelspec": {
   "display_name": "Python 3.9.1 64-bit",
   "language": "python",
   "name": "python3"
  },
  "language_info": {
   "codemirror_mode": {
    "name": "ipython",
    "version": 3
   },
   "file_extension": ".py",
   "mimetype": "text/x-python",
   "name": "python",
   "nbconvert_exporter": "python",
   "pygments_lexer": "ipython3",
   "version": "3.9.1"
  },
  "orig_nbformat": 4,
  "vscode": {
   "interpreter": {
    "hash": "c015e0e6a20a70f8474d412d1f340c97be77a0c89b4775d2404595dcfa6c2141"
   }
  }
 },
 "nbformat": 4,
 "nbformat_minor": 2
}
