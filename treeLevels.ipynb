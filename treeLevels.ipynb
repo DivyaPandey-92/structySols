{
 "cells": [
  {
   "cell_type": "code",
   "execution_count": null,
   "metadata": {},
   "outputs": [],
   "source": [
    "def tree_levels(root):\n",
    "  if root is None:\n",
    "    return []\n",
    "  return _tree_levels(root, [], 0)\n",
    "  \n",
    "def _tree_levels(root, levels, level_num):  \n",
    "  if root is None:\n",
    "    return \n",
    "  \n",
    "  if len(levels)==level_num:\n",
    "    levels.append([root.val])\n",
    "  else:\n",
    "    levels[level_num].append(root.val)\n",
    "  \n",
    "  left=_tree_levels(root.left, levels, level_num+1)\n",
    "  right=_tree_levels(root.right, levels, level_num+1)\n",
    "  \n",
    "  return levels"
   ]
  }
 ],
 "metadata": {
  "language_info": {
   "name": "python"
  },
  "orig_nbformat": 4
 },
 "nbformat": 4,
 "nbformat_minor": 2
}
