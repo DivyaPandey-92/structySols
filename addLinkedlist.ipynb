{
 "cells": [
  {
   "cell_type": "code",
   "execution_count": null,
   "metadata": {},
   "outputs": [],
   "source": [
    "def add_lists(head_1, head_2):\n",
    "  pass # todo\n",
    "\n",
    "#Using Recursive method\n",
    "\n",
    "  if head_1 is None and head_2 is None:\n",
    "    return None\n",
    "  \n",
    "#   if head_1 is None:\n",
    "#     head_1=Node(0)\n",
    "#     return head_1\n",
    "  \n",
    "#     if head_2 is None:\n",
    "#     head_2=Node(0)\n",
    "#     return head_2\n",
    "  \n",
    "  digit=head_1.val + head_2.val\n",
    "  \n",
    "  \n",
    "  result_node=Node(digit)\n",
    "  result_node.next=add_lists(head_1.next, head_2.next)\n",
    "  \n",
    "  return result\n"
   ]
  }
 ],
 "metadata": {
  "kernelspec": {
   "display_name": "Python 3.9.1 64-bit",
   "language": "python",
   "name": "python3"
  },
  "language_info": {
   "name": "python",
   "version": "3.9.1"
  },
  "orig_nbformat": 4,
  "vscode": {
   "interpreter": {
    "hash": "c015e0e6a20a70f8474d412d1f340c97be77a0c89b4775d2404595dcfa6c2141"
   }
  }
 },
 "nbformat": 4,
 "nbformat_minor": 2
}
