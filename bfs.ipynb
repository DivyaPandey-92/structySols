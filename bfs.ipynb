{
 "cells": [
  {
   "cell_type": "code",
   "execution_count": null,
   "metadata": {},
   "outputs": [],
   "source": [
    "def breadth_first_values(root):\n",
    "  pass # todo\n",
    "  \n",
    "  llist=[]\n",
    "  queue=[root]\n",
    "  \n",
    "  if root is None:\n",
    "    return []\n",
    "  \n",
    "  while queue:\n",
    "    current=queue.pop(0)\n",
    "    llist.append(current.val)\n",
    "    if current.left:\n",
    "      queue.append(current.left)\n",
    "    if current.right:\n",
    "      queue.append(current.right)\n",
    "  return llist\n",
    "    "
   ]
  }
 ],
 "metadata": {
  "kernelspec": {
   "display_name": "Python 3.9.1 64-bit",
   "language": "python",
   "name": "python3"
  },
  "language_info": {
   "name": "python",
   "version": "3.9.1"
  },
  "orig_nbformat": 4,
  "vscode": {
   "interpreter": {
    "hash": "c015e0e6a20a70f8474d412d1f340c97be77a0c89b4775d2404595dcfa6c2141"
   }
  }
 },
 "nbformat": 4,
 "nbformat_minor": 2
}
