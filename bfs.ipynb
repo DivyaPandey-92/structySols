{
 "cells": [
  {
   "cell_type": "code",
   "execution_count": null,
   "metadata": {},
   "outputs": [],
   "source": [
    "def breadth_first_values(root):\n",
    "  pass # todo\n",
    "  \n",
    "  llist=[]\n",
    "  queue=[root]\n",
    "  \n",
    "  if root is None:\n",
    "    return []\n",
    "  \n",
    "  while queue:\n",
    "    current=queue.pop(0)\n",
    "    llist.append(current.val)\n",
    "    if current.left:\n",
    "      queue.append(current.left)\n",
    "    if current.right:\n",
    "      queue.append(current.right)\n",
    "  return llist\n",
    "    "
   ]
  }
 ],
 "metadata": {
  "language_info": {
   "name": "python"
  },
  "orig_nbformat": 4
 },
 "nbformat": 4,
 "nbformat_minor": 2
}
