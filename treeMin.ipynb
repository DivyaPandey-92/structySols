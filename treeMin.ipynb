{
 "cells": [
  {
   "cell_type": "code",
   "execution_count": null,
   "metadata": {},
   "outputs": [],
   "source": [
    "def tree_min_value(root):\n",
    "  if root is None:\n",
    "    return float(\"inf\")\n",
    "    \n",
    "  left=tree_min_value(root.left)\n",
    "  right=tree_min_value(root.right)\n",
    "    \n",
    "  return min(root.val, left, right)\n",
    "\n",
    "def tree_min_value(root):\n",
    "  \n",
    "  stack=[ root ]\n",
    "  minimum=float(\"inf\")\n",
    "  \n",
    "  while stack:\n",
    "    current=stack.pop()\n",
    "    value=current.val\n",
    "    \n",
    "    if value<minimum:\n",
    "      minimum=value\n",
    "      \n",
    "    if current.right is not None: \n",
    "      stack.append(current.right)\n",
    "    if current.left is not None:\n",
    "      stack.append(current.left)\n",
    "  \n",
    "  return minimum\n",
    "  \n",
    "  "
   ]
  }
 ],
 "metadata": {
  "kernelspec": {
   "display_name": "Python 3.9.1 64-bit",
   "language": "python",
   "name": "python3"
  },
  "language_info": {
   "name": "python",
   "version": "3.9.1"
  },
  "orig_nbformat": 4,
  "vscode": {
   "interpreter": {
    "hash": "c015e0e6a20a70f8474d412d1f340c97be77a0c89b4775d2404595dcfa6c2141"
   }
  }
 },
 "nbformat": 4,
 "nbformat_minor": 2
}
