{
 "cells": [
  {
   "cell_type": "code",
   "execution_count": null,
   "metadata": {},
   "outputs": [],
   "source": [
    "def middle_value(head):\n",
    "  pass # todo\n",
    "  tail=head\n",
    "  count=0\n",
    "  \n",
    "  while tail is not None:\n",
    "    count+=1\n",
    "    tail=tail.next\n",
    "    \n",
    "  position=count//2\n",
    "  \n",
    "  while position>0:\n",
    "    head=head.next\n",
    "    position-=1\n",
    "  \n",
    "  return head.val\n",
    "  "
   ]
  }
 ],
 "metadata": {
  "language_info": {
   "name": "python"
  },
  "orig_nbformat": 4
 },
 "nbformat": 4,
 "nbformat_minor": 2
}
