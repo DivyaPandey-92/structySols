{
 "cells": [
  {
   "cell_type": "code",
   "execution_count": null,
   "metadata": {},
   "outputs": [],
   "source": [
    "def middle_value(head):\n",
    "  pass # todo\n",
    "  tail=head\n",
    "  count=0\n",
    "  \n",
    "  while tail is not None:\n",
    "    count+=1\n",
    "    tail=tail.next\n",
    "    \n",
    "  position=count//2\n",
    "  \n",
    "  while position>0:\n",
    "    head=head.next\n",
    "    position-=1\n",
    "  \n",
    "  return head.val\n",
    "  "
   ]
  }
 ],
 "metadata": {
  "kernelspec": {
   "display_name": "Python 3.9.1 64-bit",
   "language": "python",
   "name": "python3"
  },
  "language_info": {
   "name": "python",
   "version": "3.9.1"
  },
  "orig_nbformat": 4,
  "vscode": {
   "interpreter": {
    "hash": "c015e0e6a20a70f8474d412d1f340c97be77a0c89b4775d2404595dcfa6c2141"
   }
  }
 },
 "nbformat": 4,
 "nbformat_minor": 2
}
