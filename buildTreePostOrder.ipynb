{
 "cells": [
  {
   "cell_type": "code",
   "execution_count": null,
   "metadata": {},
   "outputs": [],
   "source": [
    "class Node:\n",
    "  def __init__(self, val):\n",
    "    self.val = val\n",
    "    self.left = None\n",
    "    self.right = None\n",
    "\n",
    "def build_tree_in_post(in_order, post_order):\n",
    "  pass # todo\n",
    "  if len(post_order)==0:\n",
    "    return None\n",
    "  \n",
    "  \n",
    "  val=post_order[-1]\n",
    "  ind=in_order.index(val)\n",
    "  root=Node(val)\n",
    "  # root.left=[ele  for i in ind]\n",
    "  left_inorder=in_order[:ind]\n",
    "  right_inorder=in_order[ind+1:]\n",
    "  left_postorder=post_order[:len(left_inorder)]\n",
    "  right_postorder=post_order[len(left_inorder):-1]\n",
    "  root.left=build_tree_in_post(left_inorder,  left_postorder)\n",
    "  root.right=build_tree_in_post(right_inorder,  right_postorder)\n",
    "  return root\n",
    "  \n",
    "  \n",
    "  \n",
    "  \n",
    "  \n",
    "  \n",
    "  \n",
    "  \n",
    "  \n",
    "  "
   ]
  }
 ],
 "metadata": {
  "kernelspec": {
   "display_name": "Python 3.9.1 64-bit",
   "language": "python",
   "name": "python3"
  },
  "language_info": {
   "name": "python",
   "version": "3.9.1"
  },
  "orig_nbformat": 4,
  "vscode": {
   "interpreter": {
    "hash": "c015e0e6a20a70f8474d412d1f340c97be77a0c89b4775d2404595dcfa6c2141"
   }
  }
 },
 "nbformat": 4,
 "nbformat_minor": 2
}
