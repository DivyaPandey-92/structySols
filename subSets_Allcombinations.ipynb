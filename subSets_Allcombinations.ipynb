{
 "cells": [
  {
   "cell_type": "code",
   "execution_count": null,
   "metadata": {},
   "outputs": [],
   "source": [
    "def subsets(elements):\n",
    "  return _subsets(elements, 0, 0)\n",
    "\n",
    "\n",
    "def _subsets(elements, start, end):\n",
    "  pass # todo\n",
    "  \n",
    "  new_list=[[]]\n",
    "  \n",
    "  if start==end:\n",
    "    return []\n",
    "  \n",
    "  if elements[start, end] not in new_list:\n",
    "    new_list.append(elements[start, end])\n",
    "  \n",
    "  left=_subsets(elements, start, end-1)\n",
    "  right=_subsets(elements, start+1, end)\n",
    "  \n",
    "  return new_list\n",
    "  "
   ]
  }
 ],
 "metadata": {
  "language_info": {
   "name": "python"
  },
  "orig_nbformat": 4
 },
 "nbformat": 4,
 "nbformat_minor": 2
}
