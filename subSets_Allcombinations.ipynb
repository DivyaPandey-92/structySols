{
 "cells": [
  {
   "cell_type": "code",
   "execution_count": null,
   "metadata": {},
   "outputs": [],
   "source": [
    "def subsets(elements):\n",
    "  return _subsets(elements, 0, 0)\n",
    "\n",
    "\n",
    "def _subsets(elements, start, end):\n",
    "  pass # todo\n",
    "  \n",
    "  new_list=[[]]\n",
    "  \n",
    "  if start==end:\n",
    "    return []\n",
    "  \n",
    "  if elements[start, end] not in new_list:\n",
    "    new_list.append(elements[start, end])\n",
    "  \n",
    "  left=_subsets(elements, start, end-1)\n",
    "  right=_subsets(elements, start+1, end)\n",
    "  \n",
    "  return new_list\n",
    "  "
   ]
  }
 ],
 "metadata": {
  "kernelspec": {
   "display_name": "Python 3.9.1 64-bit",
   "language": "python",
   "name": "python3"
  },
  "language_info": {
   "name": "python",
   "version": "3.9.1"
  },
  "orig_nbformat": 4,
  "vscode": {
   "interpreter": {
    "hash": "c015e0e6a20a70f8474d412d1f340c97be77a0c89b4775d2404595dcfa6c2141"
   }
  }
 },
 "nbformat": 4,
 "nbformat_minor": 2
}
