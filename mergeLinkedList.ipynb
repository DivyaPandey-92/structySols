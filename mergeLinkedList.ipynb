{
 "cells": [
  {
   "cell_type": "code",
   "execution_count": 1,
   "metadata": {},
   "outputs": [],
   "source": [
    "# class Node:\n",
    "#   def __init__(self, val):\n",
    "#     self.val = val\n",
    "#     self.next = None\n",
    "\n",
    "# def zipper_lists(head_1, head_2):\n",
    "#   pass # todo\n",
    "#   tail=head_1\n",
    "#   cur1=head_1.next\n",
    "#   cur2=head_2\n",
    "  \n",
    "#   count=0\n",
    "#   while cur1 is not None and cur2 is not None:\n",
    "#     if count%2==0:\n",
    "#       tail.next=cur2\n",
    "#       cur2=cur2.next\n",
    "#     else:\n",
    "#       tail.next=cur1\n",
    "#       cur1=cur1.next\n",
    "#     tail=tail.next\n",
    "#     count+=1\n",
    "  \n",
    "#   if cur1 is not None:\n",
    "#     tail.next=cur1\n",
    "#   else:\n",
    "#     tail.next=cur2\n",
    "  \n",
    "#   return head_1\n",
    "\n",
    "\n",
    "#Using Recursion\n",
    "def zipper_lists(head_1, head_2):\n",
    "  pass # todo\n",
    "  \n",
    "  if head_1 is  None and head_2 is None:\n",
    "    return None\n",
    "  \n",
    "  if head_1 is  None:\n",
    "    return head_2\n",
    "  \n",
    "  if head_2 is None:\n",
    "    return head_1\n",
    "  \n",
    "  next1=head_1.next\n",
    "  next2=head_2.next\n",
    "  head_1.next=head_2\n",
    "  head_2.next=zipper_lists(next1, next2)\n",
    "  return head_1\n",
    "\n",
    "\n",
    "\n",
    "\n",
    "\n",
    "\n",
    "\n",
    "\n",
    "\n",
    "\n",
    "\n",
    "\n",
    "\n"
   ]
  }
 ],
 "metadata": {
  "kernelspec": {
   "display_name": "Python 3.9.1 64-bit",
   "language": "python",
   "name": "python3"
  },
  "language_info": {
   "codemirror_mode": {
    "name": "ipython",
    "version": 3
   },
   "file_extension": ".py",
   "mimetype": "text/x-python",
   "name": "python",
   "nbconvert_exporter": "python",
   "pygments_lexer": "ipython3",
   "version": "3.9.1"
  },
  "orig_nbformat": 4,
  "vscode": {
   "interpreter": {
    "hash": "c015e0e6a20a70f8474d412d1f340c97be77a0c89b4775d2404595dcfa6c2141"
   }
  }
 },
 "nbformat": 4,
 "nbformat_minor": 2
}
