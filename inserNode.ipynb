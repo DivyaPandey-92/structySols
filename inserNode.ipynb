{
 "cells": [
  {
   "cell_type": "code",
   "execution_count": 1,
   "metadata": {},
   "outputs": [],
   "source": [
    "def insert_node(head, value, index):\n",
    "  pass # todo\n",
    "\n",
    "  current=head\n",
    "  previous=None\n",
    "  count=0\n",
    "  \n",
    "  if index==0:\n",
    "    current=head\n",
    "    new=Node(value)\n",
    "    head=new\n",
    "    new.next=current\n",
    "    return head\n",
    "    \n",
    "  while count!=index:\n",
    "    previous=current\n",
    "    current=current.next\n",
    "    count+=1\n",
    "    \n",
    "  new=Node(value)\n",
    "  previous.next=new\n",
    "  new.next=current\n",
    "  \n",
    "  return head"
   ]
  },
  {
   "cell_type": "code",
   "execution_count": null,
   "metadata": {},
   "outputs": [],
   "source": [
    "def insert_node(head, value, index):\n",
    "  \n",
    "  current=head\n",
    "  count=0\n",
    "  \n",
    "  if index==0:\n",
    "    next=head\n",
    "    new=Node(value)\n",
    "    head=new\n",
    "    new.next=next\n",
    "    return head\n",
    "    \n",
    "  while current is not None:\n",
    "    if count==index-1:\n",
    "      next=current.next\n",
    "      new=Node(value)\n",
    "      current.next=new\n",
    "      new.next=next\n",
    "    current=current.next\n",
    "    count+=1\n",
    "    \n",
    "  return head\n",
    "      "
   ]
  },
  {
   "cell_type": "code",
   "execution_count": null,
   "metadata": {},
   "outputs": [],
   "source": [
    "#BY using Recusrsion\n",
    "def insert_node(head, value, index):\n",
    "  \n",
    "  current=head\n",
    "  count=0\n",
    "  \n",
    "  if index==0:\n",
    "    next=head\n",
    "    head=Node(value)\n",
    "    head.next=next\n",
    "    return head\n",
    "    \n",
    "  while current is not None:\n",
    "    if count==index-1:\n",
    "      next=current.next\n",
    "      current.next=Node(value)\n",
    "      current.next.next=next\n",
    "    current=current.next\n",
    "    count+=1\n",
    "    \n",
    "  return head\n",
    "      "
   ]
  },
  {
   "cell_type": "code",
   "execution_count": null,
   "metadata": {},
   "outputs": [],
   "source": [
    "\n",
    "def insert_node(head, value, index):\n",
    "  \n",
    "  if index==0:\n",
    "    temp=head\n",
    "    head=Node(value)\n",
    "    head.next=temp\n",
    "    return head\n",
    "    \n",
    "  \n",
    "  if head is None:\n",
    "    return None\n",
    "  \n",
    "  \n",
    "  if index-1==0:\n",
    "    temp=head.next\n",
    "    head.next=Node(value)\n",
    "    head.next.next=temp\n",
    "    return head\n",
    "      \n",
    "  # head.next=insert_node(head.next, value , index-1)\n",
    "  insert_node(head.next, value , index-1)\n",
    "  return head\n",
    "  "
   ]
  }
 ],
 "metadata": {
  "kernelspec": {
   "display_name": "Python 3.9.1 64-bit",
   "language": "python",
   "name": "python3"
  },
  "language_info": {
   "codemirror_mode": {
    "name": "ipython",
    "version": 3
   },
   "file_extension": ".py",
   "mimetype": "text/x-python",
   "name": "python",
   "nbconvert_exporter": "python",
   "pygments_lexer": "ipython3",
   "version": "3.9.1"
  },
  "orig_nbformat": 4,
  "vscode": {
   "interpreter": {
    "hash": "c015e0e6a20a70f8474d412d1f340c97be77a0c89b4775d2404595dcfa6c2141"
   }
  }
 },
 "nbformat": 4,
 "nbformat_minor": 2
}
