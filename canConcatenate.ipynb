{
 "cells": [
  {
   "cell_type": "code",
   "execution_count": null,
   "metadata": {},
   "outputs": [],
   "source": [
    "def can_concat(s, words):\n",
    "  pass # todo\n",
    "  return _can_concat(s, words,{})\n",
    "\n",
    "\n",
    "def _can_concat(s, words, memo):\n",
    "  \n",
    "  # if s is None:\n",
    "  #   return True\n",
    "  # if len(s)==0:\n",
    "  #   return True\n",
    "  \n",
    "  if s=='':\n",
    "    return True\n",
    "  \n",
    "  if s in memo:\n",
    "    return memo[s]\n",
    "  \n",
    "  for word in words:\n",
    "    if s.startswith(word):\n",
    "      suffix=s[len(word):]\n",
    "      memo[suffix]=_can_concat(suffix, words, memo)\n",
    "      \n",
    "      if memo[suffix]:\n",
    "        return True\n",
    "      \n",
    "  return False\n",
    "\n",
    "# def _can_concat(s, words):\n",
    "  \n",
    "#   if s is None:\n",
    "#     return True\n",
    "  \n",
    "#   if len(words)==0 :\n",
    "#     return False\n",
    "  \n",
    "#   for word in words:\n",
    "#     if word in s:\n",
    "#       s=s.replace(word, '')\n",
    "#       out=_can_concat(s, words)\n",
    "#     # else:\n",
    "#     #   out=False\n",
    "#     #   return out\n",
    "    \n",
    "#     if out:\n",
    "#       return True\n",
    "    \n",
    "#   return False\n",
    "\n",
    "    \n",
    "  \n",
    "  \n"
   ]
  }
 ],
 "metadata": {
  "kernelspec": {
   "display_name": "Python 3.9.1 64-bit",
   "language": "python",
   "name": "python3"
  },
  "language_info": {
   "name": "python",
   "version": "3.9.1"
  },
  "orig_nbformat": 4,
  "vscode": {
   "interpreter": {
    "hash": "c015e0e6a20a70f8474d412d1f340c97be77a0c89b4775d2404595dcfa6c2141"
   }
  }
 },
 "nbformat": 4,
 "nbformat_minor": 2
}
