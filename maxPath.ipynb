{
 "cells": [
  {
   "cell_type": "code",
   "execution_count": null,
   "metadata": {},
   "outputs": [],
   "source": [
    "def max_path_sum(root):\n",
    "  if root is None:\n",
    "    return float(\"-inf\")\n",
    "  \n",
    "  if root.left is None and root.right is None:\n",
    "    return root.val\n",
    "  \n",
    "  \n",
    "  left=max_path_sum(root.left)\n",
    "  right=max_path_sum(root.right)\n",
    "    \n",
    "  return root.val+max(left, right)"
   ]
  }
 ],
 "metadata": {
  "kernelspec": {
   "display_name": "Python 3.9.1 64-bit",
   "language": "python",
   "name": "python3"
  },
  "language_info": {
   "name": "python",
   "version": "3.9.1"
  },
  "orig_nbformat": 4,
  "vscode": {
   "interpreter": {
    "hash": "c015e0e6a20a70f8474d412d1f340c97be77a0c89b4775d2404595dcfa6c2141"
   }
  }
 },
 "nbformat": 4,
 "nbformat_minor": 2
}
