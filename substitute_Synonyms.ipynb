{
 "cells": [
  {
   "cell_type": "code",
   "execution_count": null,
   "metadata": {},
   "outputs": [],
   "source": [
    "def substitute_synonyms(sentence, synonyms):\n",
    "  pass # todo\n",
    "  words=sentence.split(' ')\n",
    "  out=generate(words, synonyms)\n",
    "  # result= [' '.join(sentence)  for sentence in out]\n",
    "  # return result\n",
    "  return [' '.join(sentence)  for sentence in out]\n",
    "  \n",
    "  \n",
    "def generate(words, synonyms):\n",
    "  if len(words)==0:\n",
    "    return [[]]\n",
    "  \n",
    "  \n",
    "  first=words[0]\n",
    "  remaining=words[1:]\n",
    "  subarrays=generate(words[1:], synonyms)\n",
    "#   \n",
    "  result=[]\n",
    "  if first in synonyms:\n",
    "    # result=[]\n",
    "    for synonym in synonyms[first]:\n",
    "      \n",
    "      # for subarray in subarrays:\n",
    "      #   result.append([synonym, *subarray])\n",
    "      result+=[[synonym, *subarray] for subarray in subarrays]\n",
    "    # return result\n",
    "     \n",
    "  \n",
    "        # return [[synonym, *subarray ]]\n",
    "  \n",
    "  else:\n",
    "    # result=[]\n",
    "    # for subarray  in subarrays:\n",
    "    #   result.append([words[0], *subarray])\n",
    "    result+=[[words[0], *subarray] for subarray in subarrays]\n",
    "\n",
    "  return result\n",
    "  \n",
    "    \n",
    "  \n",
    "  \n",
    "  "
   ]
  }
 ],
 "metadata": {
  "kernelspec": {
   "display_name": "Python 3.9.1 64-bit",
   "language": "python",
   "name": "python3"
  },
  "language_info": {
   "name": "python",
   "version": "3.9.1"
  },
  "orig_nbformat": 4,
  "vscode": {
   "interpreter": {
    "hash": "c015e0e6a20a70f8474d412d1f340c97be77a0c89b4775d2404595dcfa6c2141"
   }
  }
 },
 "nbformat": 4,
 "nbformat_minor": 2
}
