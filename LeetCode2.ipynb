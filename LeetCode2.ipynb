{
 "cells": [
  {
   "cell_type": "code",
   "execution_count": null,
   "metadata": {},
   "outputs": [],
   "source": [
    "class Solution(object):\n",
    "    def maxSubArray(self, nums):\n",
    "        \"\"\"\n",
    "        :type nums: List[int]\n",
    "        :rtype: int\n",
    "        \"\"\"\n",
    "        # i=0\n",
    "        # # j=1\n",
    "        # max_sub=nums[0]\n",
    "\n",
    "        # for j in range(1,len(nums)):\n",
    "        #     # max_sum+=nums[j]\n",
    "        #     if max_sum<0:\n",
    "        #         i=j\n",
    "        #         max_sum=nums[j]\n",
    "        #         # j+=1\n",
    "        #     else:\n",
    "        #         max_sum+=nums[j]\n",
    "        #         # j+=1\n",
    "        #     j+=1\n",
    "        # return max_sum\n",
    "\n",
    "        max_sub=nums[0]\n",
    "        curSum=0\n",
    "        \n",
    "        for num in nums:\n",
    "            if curSum<0:\n",
    "                curSum=0\n",
    "            curSum+=num\n",
    "            max_sub=max(curSum, max_sub)\n",
    "        return max_sub"
   ]
  }
 ],
 "metadata": {
  "language_info": {
   "name": "python"
  },
  "orig_nbformat": 4
 },
 "nbformat": 4,
 "nbformat_minor": 2
}
