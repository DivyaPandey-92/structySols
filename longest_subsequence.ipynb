{
 "cells": [
  {
   "cell_type": "code",
   "execution_count": null,
   "metadata": {},
   "outputs": [],
   "source": [
    "def overlap_subsequence(string_1, string_2):\n",
    "  pass # todo\n",
    "  return _overlap_subsequence(string_1, string_2, 0,0, {})\n",
    "\n",
    "def _overlap_subsequence(string_1, string_2, start1, start2, memo):\n",
    "  \n",
    "  if start1==len(string_1) or start2==len(string_2):\n",
    "    return 0\n",
    "  \n",
    "  key=(start1, start2)\n",
    "  \n",
    "  if key in memo:\n",
    "    return memo[key]\n",
    "    \n",
    "  \n",
    "  if string_1[start1]==string_2[start2]:\n",
    "    memo[key]=1+_overlap_subsequence(string_1, string_2, start1+1, start2+1, memo)\n",
    "  else:\n",
    "    memo[key]=max(_overlap_subsequence(string_1, string_2, start1, start2+1, memo),\n",
    "    _overlap_subsequence(string_1, string_2, start1+1, start2, memo))\n",
    "    \n",
    "  return memo[key]\n",
    "    \n",
    "\n",
    "\n",
    "    \n",
    "    "
   ]
  }
 ],
 "metadata": {
  "language_info": {
   "name": "python"
  },
  "orig_nbformat": 4
 },
 "nbformat": 4,
 "nbformat_minor": 2
}
