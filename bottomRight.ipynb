{
 "cells": [
  {
   "cell_type": "code",
   "execution_count": null,
   "metadata": {},
   "outputs": [],
   "source": [
    "# class Node:\n",
    "#   def __init__(self, val):\n",
    "#     self.val = val\n",
    "#     self.left = None\n",
    "#     self.right = None\n",
    "from collections import deque\n",
    "def bottom_right_value(root):\n",
    "  pass # todo\n",
    "  # if root.right is None and root.left:\n",
    "  #   return root.val\n",
    "#   if root is None:\n",
    "#     return ''\n",
    "  \n",
    "#   left=bottom_right_value(root.left)\n",
    "#   right=bottom_right_value(root.right)\n",
    "\n",
    "  #using bfs\n",
    "  queue=deque([ root ])\n",
    "  char=''\n",
    "  while queue:\n",
    "    current=queue.popleft()\n",
    "    char=current.val\n",
    "    \n",
    "    if current.left is not  None:\n",
    "      queue.append(current.left)\n",
    "    if current.right is not None:\n",
    "      queue.append(current.right)\n",
    "      \n",
    "  return char\n",
    "      \n",
    "    "
   ]
  }
 ],
 "metadata": {
  "kernelspec": {
   "display_name": "Python 3.9.1 64-bit",
   "language": "python",
   "name": "python3"
  },
  "language_info": {
   "name": "python",
   "version": "3.9.1"
  },
  "orig_nbformat": 4,
  "vscode": {
   "interpreter": {
    "hash": "c015e0e6a20a70f8474d412d1f340c97be77a0c89b4775d2404595dcfa6c2141"
   }
  }
 },
 "nbformat": 4,
 "nbformat_minor": 2
}
