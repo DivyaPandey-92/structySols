{
 "cells": [
  {
   "cell_type": "code",
   "execution_count": null,
   "metadata": {},
   "outputs": [],
   "source": [
    "# class Node:\n",
    "#   def __init__(self, val):\n",
    "#     self.val = val\n",
    "#     self.left = None\n",
    "#     self.right = None\n",
    "\n",
    "# def flip_tree(root):\n",
    "#   pass # todo\n",
    "#   l, r=_flip_tree(root)\n",
    "#   root.left=r\n",
    "#   root.right=l\n",
    "#   return root\n",
    "\n",
    "# def _flip_tree(root):\n",
    "#   if root is None:\n",
    "#     return None\n",
    "  \n",
    "#   if root.left is None and root.right is None:\n",
    "#     return [root]\n",
    "  \n",
    "#   left= _flip_tree(root.left)\n",
    "#   left.append(root)\n",
    "\n",
    "#   right= _flip_tree(root.right)\n",
    "#   right.append(root)\n",
    "\n",
    "#   return left, right\n",
    "\n",
    "def flip_tree(root):\n",
    "#   temp=root.left\n",
    "#   root.left=root.right\n",
    "#   root.right=temp\n",
    "  \n",
    "#   return root\n",
    "  if root is None:\n",
    "    return None\n",
    "  \n",
    "  left=flip_tree(root.left)\n",
    "  right=flip_tree(root.right)\n",
    "  \n",
    "  # left, right= right, left\n",
    "  # root.left, root.right=root.right, root.left\n",
    "  root.left=right\n",
    "  root.right=left\n",
    "  \n",
    "  return root"
   ]
  }
 ],
 "metadata": {
  "language_info": {
   "name": "python"
  },
  "orig_nbformat": 4
 },
 "nbformat": 4,
 "nbformat_minor": 2
}
